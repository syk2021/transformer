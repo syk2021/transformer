{
 "cells": [
  {
   "cell_type": "markdown",
   "metadata": {},
   "source": [
    "# Rationale for using Einsum in this Transformer Implementation\n",
    "Gets rid of matmul and permute operations and specifying dimensions"
   ]
  },
  {
   "cell_type": "code",
   "execution_count": null,
   "metadata": {},
   "outputs": [],
   "source": [
    "# AN OVERVIEW OF EINSUM\n",
    "import torch\n",
    "a = torch.randn(10, 20, 30) # b -> 10, i -> 20, k -> 30\n",
    "c = torch.randn(10, 50, 30) # b -> 10, j -> 50, k -> 30\n",
    "\n",
    "# [10, 20, 30] x [10, 50, 30] => [10, 20, 50]\n",
    "y1 = torch.einsum('bik, bjk -> bij', a, c) \n",
    "\n",
    "# without einsum: must permute as following\n",
    "# y2 = torch.bmm(a, c.permute(0, 2, 1))\n"
   ]
  }
 ],
 "metadata": {
  "language_info": {
   "name": "python"
  },
  "orig_nbformat": 4
 },
 "nbformat": 4,
 "nbformat_minor": 2
}
